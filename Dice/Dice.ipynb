{
 "cells": [
  {
   "cell_type": "markdown",
   "metadata": {},
   "source": [
    "B. Сумма на гранях\n",
    "Ограничение времени\t1 секунда\n",
    "Ограничение памяти\t256Mb\n",
    "Ввод\tстандартный ввод или input.txt\n",
    "Вывод\tстандартный вывод или output.txt\n",
    "Вася взял игральную кость и написал на гранях числа \n",
    "a\n",
    "1\n",
    ", \n",
    "a\n",
    "2\n",
    ", \n",
    "a\n",
    "3\n",
    ", \n",
    "a\n",
    "4\n",
    ", \n",
    "a\n",
    "5\n",
    " и \n",
    "a\n",
    "6\n",
    ".\n",
    "Для генерации случайного числа Вася решил воспользоваться следующим алгоритмом:\n",
    "\n",
    "Выбрать число \n",
    "k\n",
    ".\n",
    "Подбросить кубик \n",
    "k\n",
    " раз и записать на листик последовательно выпавших чисел \n",
    "b\n",
    "j\n",
    ".\n",
    "Пройтись по списку с конца и вычеркнуть число \n",
    "b\n",
    "j\n",
    ", если оно равно \n",
    "b\n",
    "j\n",
    "−\n",
    "1\n",
    " (\n",
    "b\n",
    "1\n",
    " всегда останется в последовательности).\n",
    "Определите математическое ожидание суммы оставшихся в последовательности чисел, если Вася сообщит вам числа \n",
    "a\n",
    "i\n",
    " и \n",
    "k\n",
    ".\n",
    "Обратите внимание, что кубик у Васи честный и все выпадение любой из граней равновероятно. Кроме этого, подбрасывания кубика независимы.\n",
    "\n",
    "Формат ввода\n",
    "В первой строке записаны 6 целых чисел \n",
    "a\n",
    "1\n",
    ", \n",
    "a\n",
    "2\n",
    ", \n",
    "a\n",
    "3\n",
    ", \n",
    "a\n",
    "4\n",
    ", \n",
    "a\n",
    "5\n",
    " и \n",
    "a\n",
    "6\n",
    " (\n",
    "1\n",
    "≤\n",
    "a\n",
    "i\n",
    "≤\n",
    "1\n",
    "0\n",
    "0\n",
    "0\n",
    ").\n",
    "Во второй строке записано одно число \n",
    "k\n",
    " (\n",
    "1\n",
    "≤\n",
    "k\n",
    "≤\n",
    "1\n",
    "0\n",
    "0\n",
    "0\n",
    ").\n",
    "\n",
    "Формат вывода\n",
    "Выведите одно вещественное число — требуемое по условию задачи математическое ожидание.\n",
    "Ответ будет считаться верным, если относительная или абсолютная погрешность не будет превышать \n",
    "1\n",
    "0\n",
    "−\n",
    "6\n",
    "."
   ]
  },
  {
   "cell_type": "code",
   "execution_count": 23,
   "metadata": {},
   "outputs": [],
   "source": [
    "import random"
   ]
  },
  {
   "cell_type": "code",
   "execution_count": 107,
   "metadata": {},
   "outputs": [],
   "source": [
    "def generator(a,k):\n",
    "    b =[]\n",
    "    b.append(random.choice(a))\n",
    "    \n",
    "    for j in range(1,k):\n",
    "        t = random.choice(a)\n",
    "        if t != b[j-1]:\n",
    "            b.append(t)\n",
    "  \n",
    "    return sum(b)"
   ]
  },
  {
   "cell_type": "code",
   "execution_count": 21,
   "metadata": {},
   "outputs": [
    {
     "data": {
      "text/plain": [
       "5"
      ]
     },
     "execution_count": 21,
     "metadata": {},
     "output_type": "execute_result"
    }
   ],
   "source": [
    "generator([1,2,3,4,5,6],3)"
   ]
  },
  {
   "cell_type": "code",
   "execution_count": 109,
   "metadata": {},
   "outputs": [
    {
     "data": {
      "text/plain": [
       "6.42012"
      ]
     },
     "execution_count": 109,
     "metadata": {},
     "output_type": "execute_result"
    }
   ],
   "source": [
    "reader = open('input.txt', 'r')\n",
    "a = [int(n) for n in reader.readline().split(\" \")]\n",
    "k = int(reader.readline())\n",
    "reader.close()\n",
    "S = 0\n",
    "N = 10**6\n",
    "for i in range(N):\n",
    "    S += generator(a,k)\n",
    "S/N"
   ]
  },
  {
   "cell_type": "code",
   "execution_count": 15,
   "metadata": {},
   "outputs": [
    {
     "data": {
      "text/plain": [
       "231"
      ]
     },
     "execution_count": 15,
     "metadata": {},
     "output_type": "execute_result"
    }
   ],
   "source": [
    "26+31+36+41+46+51"
   ]
  },
  {
   "cell_type": "code",
   "execution_count": 96,
   "metadata": {},
   "outputs": [
    {
     "data": {
      "text/plain": [
       "252"
      ]
     },
     "execution_count": 96,
     "metadata": {},
     "output_type": "execute_result"
    }
   ],
   "source": [
    "27+33+39+45+51+57"
   ]
  },
  {
   "cell_type": "code",
   "execution_count": 16,
   "metadata": {},
   "outputs": [
    {
     "data": {
      "text/plain": [
       "6.416666666666667"
      ]
     },
     "execution_count": 16,
     "metadata": {},
     "output_type": "execute_result"
    }
   ],
   "source": [
    "231/36"
   ]
  },
  {
   "cell_type": "code",
   "execution_count": 97,
   "metadata": {},
   "outputs": [
    {
     "data": {
      "text/plain": [
       "7.0"
      ]
     },
     "execution_count": 97,
     "metadata": {},
     "output_type": "execute_result"
    }
   ],
   "source": [
    "252/36"
   ]
  },
  {
   "cell_type": "code",
   "execution_count": 111,
   "metadata": {},
   "outputs": [
    {
     "data": {
      "text/plain": [
       "6.416666666666667"
      ]
     },
     "execution_count": 111,
     "metadata": {},
     "output_type": "execute_result"
    }
   ],
   "source": [
    "(7*5+3.5)/6"
   ]
  },
  {
   "cell_type": "code",
   "execution_count": 98,
   "metadata": {},
   "outputs": [
    {
     "name": "stdout",
     "output_type": "stream",
     "text": [
      "3.0\n"
     ]
    }
   ],
   "source": [
    "from itertools import product\n",
    "reader = open('input.txt', 'r')\n",
    "a = [int(n) for n in reader.readline().split(\" \")]\n",
    "k = int(reader.readline())\n",
    "reader.close()\n",
    "\n",
    "S=0\n",
    "for c in product(a,repeat=k):\n",
    "    for j in reversed(range(k)):\n",
    "        if (c[j] != c[j-1]) or j==1:\n",
    "            S += c[j]\n",
    "\n",
    "print(S/6**k)   "
   ]
  },
  {
   "cell_type": "code",
   "execution_count": 87,
   "metadata": {},
   "outputs": [
    {
     "name": "stdout",
     "output_type": "stream",
     "text": [
      "3.0\n"
     ]
    }
   ],
   "source": [
    "from itertools import product\n",
    "reader = open('input.txt', 'r')\n",
    "a = [int(n) for n in reader.readline().split(\" \")]\n",
    "k = int(reader.readline())\n",
    "reader.close()\n",
    "\n",
    "S=0\n",
    "C = set(product(a,repeat=k))\n",
    "for c in C:\n",
    "    for j in reversed(range(k)):\n",
    "        if (c[j] != c[j-1]) or j==1:\n",
    "            S += c[j]\n",
    "\n",
    "l = len(C)\n",
    "print(S/l)    "
   ]
  },
  {
   "cell_type": "code",
   "execution_count": 7,
   "metadata": {},
   "outputs": [
    {
     "data": {
      "text/plain": [
       "2.4074074074074074"
      ]
     },
     "execution_count": 7,
     "metadata": {},
     "output_type": "execute_result"
    }
   ],
   "source": [
    "reader = open('input.txt', 'r')\n",
    "a = [int(n) for n in reader.readline().split(\" \")]\n",
    "k = int(reader.readline())\n",
    "reader.close()\n",
    "\n",
    "m = sum(a)/6\n",
    "q = 0\n",
    "\n",
    "for i in set(a):\n",
    "    r = 0\n",
    "    for j in a:\n",
    "        if i == j:\n",
    "            r += 1/6\n",
    "    q += r**2       \n",
    "    \n",
    "p = 1-q\n",
    "s = k*m*p+ (k-1)*m*q\n",
    "s"
   ]
  },
  {
   "cell_type": "code",
   "execution_count": 9,
   "metadata": {},
   "outputs": [
    {
     "data": {
      "text/plain": [
       "0.5555555555555556"
      ]
     },
     "execution_count": 9,
     "metadata": {},
     "output_type": "execute_result"
    }
   ],
   "source": []
  },
  {
   "cell_type": "code",
   "execution_count": null,
   "metadata": {},
   "outputs": [],
   "source": []
  }
 ],
 "metadata": {
  "kernelspec": {
   "display_name": "Python 3.8.10 ('scientificProject')",
   "language": "python",
   "name": "python3"
  },
  "language_info": {
   "codemirror_mode": {
    "name": "ipython",
    "version": 3
   },
   "file_extension": ".py",
   "mimetype": "text/x-python",
   "name": "python",
   "nbconvert_exporter": "python",
   "pygments_lexer": "ipython3",
   "version": "3.8.10"
  },
  "orig_nbformat": 4,
  "vscode": {
   "interpreter": {
    "hash": "ca5a478c097662b9289220e03090bd8998ff4b830eeb540f8716e13493384b9b"
   }
  }
 },
 "nbformat": 4,
 "nbformat_minor": 2
}
