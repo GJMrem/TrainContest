{
 "cells": [
  {
   "cell_type": "markdown",
   "metadata": {},
   "source": [
    "A. Генератор точек в круге\n",
    "Ограничение времени\t1 секунда\n",
    "Ограничение памяти\t64Mb\n",
    "Ввод\tстандартный ввод или input.txt\n",
    "Вывод\tстандартный вывод или output.txt\n",
    "Петя написал два генератора точек в круге:\n",
    "\n",
    "def generate1():  \n",
    "    a = uniform(0, 1)  \n",
    "    b = uniform(0, 1)  \n",
    "    return (a * cos(2 * pi * b), a * sin(2 * pi * b))\n",
    "\n",
    "def generate2():  \n",
    "    while True:  \n",
    "        x = uniform(-1, 1)  \n",
    "        y = uniform(-1, 1)  \n",
    "        if x ** 2 + y ** 2 > 1:  \n",
    "            continue  \n",
    "        return (x, y)\n",
    "Даны 100 наборов по 1000 точек, каждый набор сгенерирован каким-то одним из этих двух алгоритмов. Необходимо определить для каждого набора, первый или второй алгоритм использовался для его генерации.\n",
    "Для того, чтобы получить ОК по этой задаче, надо предсказать правильный генератор хотя бы для 98 наборов.\n",
    "Формат ввода\n",
    "Даны 100 строк. Каждая строка отвечает за свой набор точек.\n",
    "В каждой строке находится 2000 действительных чисел (\n",
    "−\n",
    "1\n",
    "≤\n",
    "a\n",
    "i\n",
    "≤\n",
    "1\n",
    "), разделённых пробелом. Точки идут подряд, то есть формат строки: \n",
    "x\n",
    "0\n",
    "  \n",
    "y\n",
    "0\n",
    "  \n",
    "x\n",
    "1\n",
    "  \n",
    "y\n",
    "1\n",
    "  \n",
    "x\n",
    "2\n",
    "  \n",
    "y\n",
    "2\n",
    "  \n",
    "…\n",
    "  \n",
    "x\n",
    "9\n",
    "9\n",
    "9\n",
    "  \n",
    "y\n",
    "9\n",
    "9\n",
    "9\n",
    "Формат вывода\n",
    "Нужно вывести 100 строк, в каждой из которой должно быть 1 число: 1 или 2, в зависимости от того, первым или вторым генератором был сгенерирован данный набор точек."
   ]
  },
  {
   "cell_type": "code",
   "execution_count": 41,
   "metadata": {},
   "outputs": [],
   "source": [
    "import pandas as pd\n",
    "import seaborn as sns\n",
    "import numpy as np\n",
    "import scipy.stats as st\n",
    "from sklearn.tree import DecisionTreeClassifier\n",
    "import matplotlib.pyplot as plt\n",
    "import matplotlib as mpl"
   ]
  },
  {
   "cell_type": "code",
   "execution_count": 42,
   "metadata": {},
   "outputs": [],
   "source": [
    "import math"
   ]
  },
  {
   "cell_type": "code",
   "execution_count": 43,
   "metadata": {},
   "outputs": [],
   "source": [
    "N=1000\n",
    "\n",
    "def generate1():  \n",
    "    a = st.uniform(0,1).rvs()\n",
    "    b = st.uniform(0,1).rvs() \n",
    "    return (a * np.cos(2 * math.pi * b), a * np.sin(2 * math.pi * b))\n",
    "def generate2():  \n",
    "    while True:  \n",
    "        x = st.uniform(-1,2).rvs()   \n",
    "        y = st.uniform(-1,2).rvs()  \n",
    "        if x ** 2 + y ** 2 > 1:  \n",
    "            continue  \n",
    "        return (x, y)\n",
    "\n",
    "g1 = pd.DataFrame(columns=['x','y'])\n",
    "g2 = pd.DataFrame(columns=['x','y'])\n",
    "\n",
    "for i in range(0,N):\n",
    "    g1.loc[i] = generate1()\n",
    "    g2.loc[i] = generate2()"
   ]
  },
  {
   "cell_type": "code",
   "execution_count": 44,
   "metadata": {},
   "outputs": [
    {
     "data": {
      "text/html": [
       "<div>\n",
       "<style scoped>\n",
       "    .dataframe tbody tr th:only-of-type {\n",
       "        vertical-align: middle;\n",
       "    }\n",
       "\n",
       "    .dataframe tbody tr th {\n",
       "        vertical-align: top;\n",
       "    }\n",
       "\n",
       "    .dataframe thead th {\n",
       "        text-align: right;\n",
       "    }\n",
       "</style>\n",
       "<table border=\"1\" class=\"dataframe\">\n",
       "  <thead>\n",
       "    <tr style=\"text-align: right;\">\n",
       "      <th></th>\n",
       "      <th>x</th>\n",
       "      <th>y</th>\n",
       "    </tr>\n",
       "  </thead>\n",
       "  <tbody>\n",
       "    <tr>\n",
       "      <th>0</th>\n",
       "      <td>-0.543510</td>\n",
       "      <td>0.630379</td>\n",
       "    </tr>\n",
       "    <tr>\n",
       "      <th>1</th>\n",
       "      <td>0.304956</td>\n",
       "      <td>0.756153</td>\n",
       "    </tr>\n",
       "    <tr>\n",
       "      <th>2</th>\n",
       "      <td>0.867385</td>\n",
       "      <td>0.336219</td>\n",
       "    </tr>\n",
       "    <tr>\n",
       "      <th>3</th>\n",
       "      <td>0.195059</td>\n",
       "      <td>-0.122469</td>\n",
       "    </tr>\n",
       "    <tr>\n",
       "      <th>4</th>\n",
       "      <td>0.029259</td>\n",
       "      <td>0.005836</td>\n",
       "    </tr>\n",
       "    <tr>\n",
       "      <th>...</th>\n",
       "      <td>...</td>\n",
       "      <td>...</td>\n",
       "    </tr>\n",
       "    <tr>\n",
       "      <th>995</th>\n",
       "      <td>0.108270</td>\n",
       "      <td>0.304899</td>\n",
       "    </tr>\n",
       "    <tr>\n",
       "      <th>996</th>\n",
       "      <td>0.058733</td>\n",
       "      <td>-0.853464</td>\n",
       "    </tr>\n",
       "    <tr>\n",
       "      <th>997</th>\n",
       "      <td>0.796155</td>\n",
       "      <td>-0.269795</td>\n",
       "    </tr>\n",
       "    <tr>\n",
       "      <th>998</th>\n",
       "      <td>-0.411595</td>\n",
       "      <td>-0.790708</td>\n",
       "    </tr>\n",
       "    <tr>\n",
       "      <th>999</th>\n",
       "      <td>0.054821</td>\n",
       "      <td>-0.978630</td>\n",
       "    </tr>\n",
       "  </tbody>\n",
       "</table>\n",
       "<p>1000 rows × 2 columns</p>\n",
       "</div>"
      ],
      "text/plain": [
       "            x         y\n",
       "0   -0.543510  0.630379\n",
       "1    0.304956  0.756153\n",
       "2    0.867385  0.336219\n",
       "3    0.195059 -0.122469\n",
       "4    0.029259  0.005836\n",
       "..        ...       ...\n",
       "995  0.108270  0.304899\n",
       "996  0.058733 -0.853464\n",
       "997  0.796155 -0.269795\n",
       "998 -0.411595 -0.790708\n",
       "999  0.054821 -0.978630\n",
       "\n",
       "[1000 rows x 2 columns]"
      ]
     },
     "execution_count": 44,
     "metadata": {},
     "output_type": "execute_result"
    }
   ],
   "source": [
    "g1"
   ]
  },
  {
   "cell_type": "code",
   "execution_count": 45,
   "metadata": {},
   "outputs": [],
   "source": [
    "sns.set(rc={'figure.figsize':(9,9)})"
   ]
  },
  {
   "cell_type": "code",
   "execution_count": 46,
   "metadata": {},
   "outputs": [
    {
     "data": {
      "text/plain": [
       "<matplotlib.axes._subplots.AxesSubplot at 0x24d5b375430>"
      ]
     },
     "execution_count": 46,
     "metadata": {},
     "output_type": "execute_result"
    },
    {
     "data": {
      "image/png": "[encoded data removed]",
      "text/plain": [
       "<Figure size 648x648 with 1 Axes>"
      ]
     },
     "metadata": {},
     "output_type": "display_data"
    }
   ],
   "source": [
    "sns.histplot(x=g1.x,y=g1.y)"
   ]
  },
  {
   "cell_type": "code",
   "execution_count": 47,
   "metadata": {},
   "outputs": [
    {
     "data": {
      "text/plain": [
       "<matplotlib.axes._subplots.AxesSubplot at 0x24d61a1c880>"
      ]
     },
     "execution_count": 47,
     "metadata": {},
     "output_type": "execute_result"
    },
    {
     "data": {
      "image/png": "[encoded data removed]",
      "text/plain": [
       "<Figure size 648x648 with 1 Axes>"
      ]
     },
     "metadata": {},
     "output_type": "display_data"
    }
   ],
   "source": [
    "sns.histplot(x=g2.x,y=g2.y)"
   ]
  },
  {
   "cell_type": "code",
   "execution_count": 48,
   "metadata": {},
   "outputs": [
    {
     "data": {
      "text/plain": [
       "341.96808165868975"
      ]
     },
     "execution_count": 48,
     "metadata": {},
     "output_type": "execute_result"
    }
   ],
   "source": [
    "sum(g1['x']**2+g1['y']**2)"
   ]
  },
  {
   "cell_type": "code",
   "execution_count": 49,
   "metadata": {},
   "outputs": [
    {
     "data": {
      "text/plain": [
       "515.6760797465589"
      ]
     },
     "execution_count": 49,
     "metadata": {},
     "output_type": "execute_result"
    }
   ],
   "source": [
    "sum(g2['x']**2+g2['y']**2)"
   ]
  },
  {
   "cell_type": "code",
   "execution_count": null,
   "metadata": {},
   "outputs": [],
   "source": [
    "reader = open('input.txt', 'r')\n",
    "for _ in range(100):\t\n",
    "\tsample = [float(n) for n in reader.readline().split( )]\n",
    "\tvar = 0\n",
    "\tfor i in range(len(sample)):\n",
    "\t\tvar += sample[i]**2\n",
    "\tif var < 400:\n",
    "\t\tprint(1)\n",
    "\telse:\n",
    "\t\tprint(2)\n",
    "reader.close()"
   ]
  }
 ],
 "metadata": {
  "kernelspec": {
   "display_name": "Python 3.8.10 ('scientificProject')",
   "language": "python",
   "name": "python3"
  },
  "language_info": {
   "codemirror_mode": {
    "name": "ipython",
    "version": 3
   },
   "file_extension": ".py",
   "mimetype": "text/x-python",
   "name": "python",
   "nbconvert_exporter": "python",
   "pygments_lexer": "ipython3",
   "version": "3.8.10"
  },
  "orig_nbformat": 4,
  "vscode": {
   "interpreter": {
    "hash": "ca5a478c097662b9289220e03090bd8998ff4b830eeb540f8716e13493384b9b"
   }
  }
 },
 "nbformat": 4,
 "nbformat_minor": 2
}
