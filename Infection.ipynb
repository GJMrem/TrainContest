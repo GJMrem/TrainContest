{
 "cells": [
  {
   "cell_type": "code",
   "execution_count": 14,
   "metadata": {},
   "outputs": [
    {
     "name": "stdout",
     "output_type": "stream",
     "text": [
      "10\n",
      "[1, 5] 0\n",
      "15\n",
      "[0, 1] 1\n",
      "20\n",
      "[1, 4] 1\n",
      "1 1 0 1 1 0\n"
     ]
    }
   ],
   "source": [
    "\n",
    "reader = open('input.txt', 'r')\n",
    "N = int(reader.readline())\n",
    "a = [int(n) for n in reader.readline().split( )]\n",
    "m =[]\n",
    "meetings =set()\n",
    "\n",
    "for i in range(N):\n",
    "    m.append(reader.readline().split())\n",
    "    m[i].remove(m[i][0])\n",
    "    for j in m[i]:\n",
    "        meetings.add(j) \n",
    "        \n",
    "for j in sorted(meetings):\n",
    "    infected = 0\n",
    "    present = []\n",
    "    print(j)\n",
    "    for i in range(N):\n",
    "        if j in m[i]:\n",
    "            present.append(i)\n",
    "            if a[i]==1:\n",
    "                infected = 1\n",
    "                \n",
    "                \n",
    "    print(present,infected)\n",
    "    if infected == 1:\n",
    "        for i in present:\n",
    "            a[i] = 1\n",
    "        \n",
    "reader.close()        \n",
    "print(' '.join(map(str,a)))\n"
   ]
  },
  {
   "cell_type": "code",
   "execution_count": 13,
   "metadata": {},
   "outputs": [
    {
     "data": {
      "text/plain": [
       "{'10', '15', '20'}"
      ]
     },
     "execution_count": 13,
     "metadata": {},
     "output_type": "execute_result"
    }
   ],
   "source": [
    "meetings"
   ]
  },
  {
   "cell_type": "code",
   "execution_count": 16,
   "metadata": {},
   "outputs": [
    {
     "name": "stdout",
     "output_type": "stream",
     "text": [
      "[1, 5]\n",
      "[0, 1]\n",
      "[1, 4]\n",
      "[0, 3, 1, 5, 4]\n",
      "1 1 0 1 1 1\n"
     ]
    }
   ],
   "source": [
    "reader = open('input.txt', 'r')\n",
    "N = int(reader.readline())\n",
    "a = [int(n) for n in reader.readline().split( )]\n",
    "m =[]\n",
    "meetings =set()\n",
    "\n",
    "for i in range(N):\n",
    "    m.append(reader.readline().split())\n",
    "    m[i].remove(m[i][0])\n",
    "    for j in m[i]:\n",
    "        meetings.add(j) \n",
    "\n",
    "attendance = {}  \n",
    "for j in sorted(meetings):\n",
    "    infected = 0\n",
    "    present = []\n",
    "    for i in range(N):\n",
    "        if j in m[i]:\n",
    "            present.append(i)\n",
    "    attendance.update({j:present})\n",
    "    print(present)\n",
    "            \n",
    "infected = [] \n",
    "\n",
    "for i in range(N):\n",
    "    if a[i]==1:\n",
    "        infected.append(i)\n",
    "\n",
    "for i in infected:\n",
    "    for j in m[i]:\n",
    "        for k in attendance[j]:\n",
    "            if k not in infected:\n",
    "                infected.append(k)  \n",
    "                a[k]=1\n",
    "            \n",
    "print(infected)\n",
    "reader.close()        \n",
    "print(' '.join(map(str,a)))"
   ]
  },
  {
   "cell_type": "code",
   "execution_count": null,
   "metadata": {},
   "outputs": [],
   "source": []
  }
 ],
 "metadata": {
  "kernelspec": {
   "display_name": "Python 3.8.10 ('scientificProject')",
   "language": "python",
   "name": "python3"
  },
  "language_info": {
   "codemirror_mode": {
    "name": "ipython",
    "version": 3
   },
   "file_extension": ".py",
   "mimetype": "text/x-python",
   "name": "python",
   "nbconvert_exporter": "python",
   "pygments_lexer": "ipython3",
   "version": "3.8.10"
  },
  "orig_nbformat": 4,
  "vscode": {
   "interpreter": {
    "hash": "ca5a478c097662b9289220e03090bd8998ff4b830eeb540f8716e13493384b9b"
   }
  }
 },
 "nbformat": 4,
 "nbformat_minor": 2
}
