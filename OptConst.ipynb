{
 "cells": [
  {
   "cell_type": "code",
   "execution_count": 41,
   "metadata": {},
   "outputs": [
    {
     "name": "stdout",
     "output_type": "stream",
     "text": [
      "958076.4\n",
      "100314.5\n",
      "123\n"
     ]
    }
   ],
   "source": [
    "import statistics\n",
    "reader = open('input.txt', 'r')\n",
    "N = int(reader.readline())\n",
    "Y = []\n",
    "\n",
    "for _ in range(N):\n",
    "\tY.append(int(reader.readline()))\n",
    "\n",
    "print(statistics.mean(Y))\n",
    "print(statistics.median(Y))\n",
    "\n",
    "def MAPE(Y,C):\n",
    "    return(sum(map(lambda x: abs((x-C)/x),Y))/N)\n",
    "        \n",
    "C = Y[0]\n",
    "for c in Y:\n",
    "    if MAPE(Y,c) < MAPE(Y,C):\n",
    "        C=c\n",
    "print(C)\n",
    "\n",
    "reader.close()    "
   ]
  },
  {
   "cell_type": "code",
   "execution_count": 47,
   "metadata": {},
   "outputs": [
    {
     "name": "stdout",
     "output_type": "stream",
     "text": [
      "958076.4\n",
      "100314.5\n",
      "65464\n"
     ]
    }
   ],
   "source": [
    "reader = open('input.txt', 'r')\n",
    "N = int(reader.readline())\n",
    "Y = []\n",
    "\n",
    "for _ in range(N):\n",
    "\tY.append(int(reader.readline()))\n",
    "\n",
    "Y = sorted(Y)\n",
    "M = statistics.median(Y)\n",
    "\n",
    "def MAPE(Y,C):\n",
    "    return(sum(map(lambda x: abs((x-C)/x),Y))/N)\n",
    "\n",
    "m = round(N/2)\n",
    "C = Y[m]\n",
    "\n",
    "if MAPE(Y,C)>MAPE(Y,Y[m-1]):\n",
    "    while MAPE(Y,Y[m])>MAPE(Y,Y[m-1]):\n",
    "        m=m-1\n",
    "    C =Y[m]\n",
    "elif MAPE(Y,C)>MAPE(Y,Y[m+1]):\n",
    "    while MAPE(Y,Y[m])>MAPE(Y,Y[m-1]):\n",
    "        m=m-1\n",
    "    C =Y[m]  \n",
    "    \n",
    "  \n",
    "print(statistics.mean(Y))\n",
    "print(M)\n",
    "print(C)\n",
    "reader.close()    "
   ]
  },
  {
   "cell_type": "code",
   "execution_count": null,
   "metadata": {},
   "outputs": [],
   "source": []
  },
  {
   "cell_type": "code",
   "execution_count": null,
   "metadata": {},
   "outputs": [],
   "source": []
  }
 ],
 "metadata": {
  "kernelspec": {
   "display_name": "Python 3.8.10 ('scientificProject')",
   "language": "python",
   "name": "python3"
  },
  "language_info": {
   "codemirror_mode": {
    "name": "ipython",
    "version": 3
   },
   "file_extension": ".py",
   "mimetype": "text/x-python",
   "name": "python",
   "nbconvert_exporter": "python",
   "pygments_lexer": "ipython3",
   "version": "3.8.10"
  },
  "orig_nbformat": 4,
  "vscode": {
   "interpreter": {
    "hash": "ca5a478c097662b9289220e03090bd8998ff4b830eeb540f8716e13493384b9b"
   }
  }
 },
 "nbformat": 4,
 "nbformat_minor": 2
}
