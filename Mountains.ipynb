{
 "cells": [
  {
   "cell_type": "code",
   "execution_count": 5,
   "metadata": {},
   "outputs": [
    {
     "name": "stdout",
     "output_type": "stream",
     "text": [
      "31.710272946224936\n"
     ]
    }
   ],
   "source": [
    "reader = open('input.txt', 'r')\n",
    "N = int(reader.readline())\n",
    "\n",
    "X,Y = [int(n) for n in reader.readline().split( )]\n",
    "S = ((X)**2 + (Y)**2)**0.5\n",
    "x = []\n",
    "y = []\n",
    "x.append(X)\n",
    "y.append(Y)\n",
    "\n",
    "for i in range(1,N):\n",
    "    a,b = [int(n) for n in reader.readline().split( )]\n",
    "    x.append(a)\n",
    "    y.append(b)\n",
    "    S += ((x[i]-x[i-1])**2 + (y[i]-y[i-1])**2)**0.5 \n",
    "\n",
    "\n",
    "for i in range(1,N-1):\n",
    "    if y[i]<y[i-1]:\n",
    "        j=i+1\n",
    "        while j<N and y[j]<y[i-1] :\n",
    "            j = j+1         \n",
    "        if y[j]>=y[i-1]:\n",
    "            S += ((x[j]-x[i-1])**2 + (y[j]-y[i-1])**2)**0.5 \n",
    "                            \n",
    "print(S)\n",
    "reader.close()   "
   ]
  },
  {
   "cell_type": "code",
   "execution_count": null,
   "metadata": {},
   "outputs": [],
   "source": []
  }
 ],
 "metadata": {
  "kernelspec": {
   "display_name": "Python 3.8.10 ('scientificProject')",
   "language": "python",
   "name": "python3"
  },
  "language_info": {
   "codemirror_mode": {
    "name": "ipython",
    "version": 3
   },
   "file_extension": ".py",
   "mimetype": "text/x-python",
   "name": "python",
   "nbconvert_exporter": "python",
   "pygments_lexer": "ipython3",
   "version": "3.8.10"
  },
  "orig_nbformat": 4,
  "vscode": {
   "interpreter": {
    "hash": "ca5a478c097662b9289220e03090bd8998ff4b830eeb540f8716e13493384b9b"
   }
  }
 },
 "nbformat": 4,
 "nbformat_minor": 2
}
